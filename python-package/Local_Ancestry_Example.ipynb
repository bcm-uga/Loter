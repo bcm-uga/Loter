{
 "cells": [
  {
   "cell_type": "markdown",
   "metadata": {},
   "source": [
    "This tutorial illustrates a simple usage of Loter for local ancestry inference."
   ]
  },
  {
   "cell_type": "markdown",
   "metadata": {},
   "source": [
    "## Table of Contents\n",
    "* [I) Installation](#installation)\n",
    "* [II) Quick overview](#loter_usage)\n",
    "* [III) Details about local ancestry inference functions](#details)\n",
    "* [IV) Dealing with more than 2 ancestral populations](#3pop)"
   ]
  },
  {
   "cell_type": "markdown",
   "metadata": {},
   "source": [
    "# I) Installation <a class=\"anchor\" id=\"installation\"></a>"
   ]
  },
  {
   "cell_type": "markdown",
   "metadata": {},
   "source": [
    "To install Loter follow the procedure explained in the [README.md](../README.md) file.\n",
    "If you have already installed Loter, jump to the [next section](#loter_usage)."
   ]
  },
  {
   "cell_type": "markdown",
   "metadata": {},
   "source": [
    "# II) Quick overview <a class=\"anchor\" id='loter_usage'></a>"
   ]
  },
  {
   "cell_type": "markdown",
   "metadata": {},
   "source": [
    "We show here how to perform local ancestry inference using Loter. In this section, we consider haplotypes from diploid admixed individuals. Loter can be used on non-diploid organisms, see [next section](#details)."
   ]
  },
  {
   "cell_type": "markdown",
   "metadata": {},
   "source": [
    "## a) Haplotype data <a  class=\"anchor\" id='hap_data'></a>"
   ]
  },
  {
   "cell_type": "markdown",
   "metadata": {},
   "source": [
    "We use human haplotype data generated from the Hapmap dataset (see <https://www.ncbi.nlm.nih.gov/probe/docs/projhapmap/>). In particular, we use haplotypes of the 50,000 first SNPs from both copies of chromosome 1 for individuals sampled from different populations: 44 European individuals (*CEU*), 50 African inviduals (*YRI*) and 23 Mexican individuals (*MEX*).\n",
    "\n",
    "We detail in the next section how to load data from VCF files."
   ]
  },
  {
   "cell_type": "code",
   "execution_count": 1,
   "metadata": {},
   "outputs": [],
   "source": [
    "import os\n",
    "import numpy as np\n",
    "\n",
    "H_ceu = np.load(os.path.join(os.pardir, \"data\", \"H_ceu.npy\"), allow_pickle=True)\n",
    "H_yri = np.load(os.path.join(os.pardir, \"data\", \"H_yri.npy\"), allow_pickle=True)\n",
    "H_mex = np.load(os.path.join(os.pardir, \"data\", \"H_mex.npy\"), allow_pickle=True)"
   ]
  },
  {
   "cell_type": "markdown",
   "metadata": {},
   "source": [
    "`H_ceu`, `H_yri` and `H_mex` each represent a matrix of haplotypes sampled from a population (resp. Europe, Africa and Mexico). The matrix $H$ of dimension $(2\\times n, p)$ represents the haplotypes of $n$ individuals in rows and $p$ SNPs in columns. In diploid species, there are two haplotypes per individual (hence $2\\times n$ haplotypes for $n$ individuals). Haplotype matrices must be encoded with $\\{0,1\\}$ values. Each entry $H_{ij}$ represents the allele of SNP $j$ in haplotype $i$: 0 being the ancestral allele and 1 the derived (mutated) allele."
   ]
  },
  {
   "cell_type": "code",
   "execution_count": 2,
   "metadata": {},
   "outputs": [
    {
     "data": {
      "text/plain": [
       "(88, 50000)"
      ]
     },
     "execution_count": 2,
     "metadata": {},
     "output_type": "execute_result"
    }
   ],
   "source": [
    "H_ceu.shape # CEU haplotypes: 2*44 hapolotypes of the 1st 50,000 SNPs of chromosome 1"
   ]
  },
  {
   "cell_type": "code",
   "execution_count": 3,
   "metadata": {},
   "outputs": [
    {
     "data": {
      "text/plain": [
       "(100, 50000)"
      ]
     },
     "execution_count": 3,
     "metadata": {},
     "output_type": "execute_result"
    }
   ],
   "source": [
    "H_yri.shape # YRI haplotypes: 2*50 hapolotypes of the 1st 50,000 SNPs of chromosome 1"
   ]
  },
  {
   "cell_type": "code",
   "execution_count": 4,
   "metadata": {},
   "outputs": [
    {
     "data": {
      "text/plain": [
       "(46, 50000)"
      ]
     },
     "execution_count": 4,
     "metadata": {},
     "output_type": "execute_result"
    }
   ],
   "source": [
    "H_mex.shape # MEX haplotypes: 2*23 hapolotypes of the 1st 50,000 SNPs of chromosome 1"
   ]
  },
  {
   "cell_type": "markdown",
   "metadata": {},
   "source": [
    "Haplotype matrices are generally obtained as a result of a **phasing algorithm** applied to genotype matrices.\n",
    "\n",
    "A genotype matrix $G$ of dimension $(n,p)$ represents genotype information regarding $n$ individuals in rows and $p$ SNPs in columns. Genotype matrices are encoded with ${0,1,2}$ values. Each entry $G_{ij}$ represent the alleles of a SNP $j$ on both copies of the corresponding chromosome in individual $i$: 0 = homozygous ancestral, 2 = homozygous mutated, 1 = heterozygous (ancestral on one chromosome and derived on the other).\n",
    "\n",
    "Data in this example (`H_ceu`, `H_yri` and `H_mex`) are the results of the phasing software [Beagle](https://faculty.washington.edu/browning/beagle/beagle.html) applied to Hapmap data and stored in Numpy array."
   ]
  },
  {
   "cell_type": "markdown",
   "metadata": {},
   "source": [
    "## b) Loading data from VCF Files <a  class=\"anchor\" id='load_data_vcf'></a>"
   ]
  },
  {
   "cell_type": "markdown",
   "metadata": {},
   "source": [
    "Haplotype data are generally stored in VCF format. We show here how lo load data from such files to be used in Loter.\n",
    "\n",
    "To load a VCF, we use [scikit allel](https://scikit-allel.readthedocs.io/en/latest/#). To install it, you can run `pip install scikit-allel`."
   ]
  },
  {
   "cell_type": "code",
   "execution_count": 5,
   "metadata": {},
   "outputs": [],
   "source": [
    "import allel\n",
    "import numpy as np"
   ]
  },
  {
   "cell_type": "markdown",
   "metadata": {},
   "source": [
    "`vcf2npy` convert a VCF File to a numpy matrix with values 0, 1 and 2."
   ]
  },
  {
   "cell_type": "code",
   "execution_count": 6,
   "metadata": {},
   "outputs": [],
   "source": [
    "def vcf2npy(vcfpath):\n",
    "    callset = allel.read_vcf(vcfpath)\n",
    "    haplotypes_1 = callset['calldata/GT'][:,:,0]\n",
    "    haplotypes_2 = callset['calldata/GT'][:,:,1]\n",
    "    \n",
    "    m, n = haplotypes_1.shape\n",
    "    mat_haplo = np.empty((2*n, m))\n",
    "    mat_haplo[::2] = haplotypes_1.T\n",
    "    mat_haplo[1::2] = haplotypes_2.T\n",
    "    \n",
    "    return mat_haplo.astype(np.uint8)"
   ]
  },
  {
   "cell_type": "markdown",
   "metadata": {},
   "source": [
    "These 3 files are the results of the phasing software [Beagle](https://faculty.washington.edu/browning/beagle/beagle.html). Hence, we only get $\\{0,1\\}$ valued matrices."
   ]
  },
  {
   "cell_type": "code",
   "execution_count": 7,
   "metadata": {},
   "outputs": [],
   "source": [
    "import os\n",
    "\n",
    "H_ceu = vcf2npy(os.path.join(os.pardir, 'data', 'ceu.vcf'))\n",
    "H_yri = vcf2npy(os.path.join(os.pardir, 'data', 'yri.vcf'))\n",
    "H_mex = vcf2npy(os.path.join(os.pardir, 'data', 'mex.vcf'))"
   ]
  },
  {
   "cell_type": "markdown",
   "metadata": {},
   "source": [
    "## c) Run Loter <a class=\"anchor\" id='run_loter'></a>"
   ]
  },
  {
   "cell_type": "markdown",
   "metadata": {},
   "source": [
    "We run Loter with default parameters.\n",
    "\n",
    "We assume, in this example, that Mexicans (*MEX*) are the result of an admixture between Europeans and Africans. We use present-day samples from European (*CEU*) and African (*YRI*) populations as a proxy for haplotypes of ancestral populations.\n",
    "\n",
    "The function `loter.locanc.local_ancestry.loter_smooth` takes at least two arguments (when using default values for the method hyper-parameters):\n",
    "* `l_H`: a list of \"ancestral\" or reference haplotypes matrices. Its length is equal to the number of ancestral populations.\n",
    "* `h_adm`: a matrix of admixed haplotypes\n",
    "\n",
    "and returns a matrix indicating the origin (regarding the ancetry) of each SNP in each haplotype: each entry $(i,j)$ corresponds to the index of the ancestral population in the list of ancestral haplotypes matrices from which the SNPs $j$ in haplotype $i$ originates (0 for the first population in `l_H` and $1$ for the second population in `l_H`).\n",
    "\n",
    "**Note:** The function `loter.locanc.local_ancestry.loter_smooth` uses a module that is able to correct phasing error (c.f. [next section](#details)). This module is specifically designed for diploid organism (i.e. that `h_adm` contains an even number of haplotypes).\n",
    "\n",
    "This computation may take several minutes to complete."
   ]
  },
  {
   "cell_type": "code",
   "execution_count": 8,
   "metadata": {},
   "outputs": [],
   "source": [
    "import loter.locanc.local_ancestry as lc\n",
    "\n",
    "res_loter = lc.loter_smooth(l_H=[H_ceu, H_yri], h_adm=H_mex, num_threads=8) ## set the number of threads"
   ]
  },
  {
   "cell_type": "code",
   "execution_count": 9,
   "metadata": {},
   "outputs": [
    {
     "name": "stdout",
     "output_type": "stream",
     "text": [
      "(46, 50000)\n"
     ]
    }
   ],
   "source": [
    "print(res_loter.shape) # 2*23 haplotype and 50000 SNPs "
   ]
  },
  {
   "cell_type": "markdown",
   "metadata": {},
   "source": [
    "## d) Visualize ancestry chunks <a class=\"anchor\" id='plot_result'></a>"
   ]
  },
  {
   "cell_type": "markdown",
   "metadata": {},
   "source": [
    "For data visualization, we use the `matplotlib` package. To install it, you can run `pip install matplotlib`.\n",
    "\n",
    "We display admixture chunks for each admixed haplotypes (in rows) and SNPs (in columns). Chunks of 0 correspond to CEU (first element of the list) and chunks of 1 correspond to YRI (second element of the list)."
   ]
  },
  {
   "cell_type": "code",
   "execution_count": 10,
   "metadata": {},
   "outputs": [
    {
     "data": {
      "text/plain": [
       "<matplotlib.colorbar.Colorbar at 0x7f0cc8f4fac8>"
      ]
     },
     "execution_count": 10,
     "metadata": {},
     "output_type": "execute_result"
    },
    {
     "data": {
      "image/png": "[encoded data removed]",
      "text/plain": [
       "<Figure size 432x288 with 2 Axes>"
      ]
     },
     "metadata": {
      "needs_background": "light"
     },
     "output_type": "display_data"
    }
   ],
   "source": [
    "%matplotlib inline\n",
    "import matplotlib.pyplot as plt\n",
    "\n",
    "plt.imshow(res_loter, interpolation='nearest', aspect='auto')\n",
    "plt.colorbar()"
   ]
  },
  {
   "cell_type": "markdown",
   "metadata": {},
   "source": [
    "Finally, we can save the result. Each line correspond to an haplotype. The SNPs are space delimited."
   ]
  },
  {
   "cell_type": "code",
   "execution_count": 11,
   "metadata": {},
   "outputs": [],
   "source": [
    "np.savetxt(\"result_mex.txt\", res_loter, fmt=\"%i\")"
   ]
  },
  {
   "cell_type": "markdown",
   "metadata": {},
   "source": [
    "# III) Details about local ancestry inference functions <a class=\"anchor\" id='details'></a>"
   ]
  },
  {
   "cell_type": "markdown",
   "metadata": {},
   "source": [
    "This section concerns more advanced users that would like to change default parameter values and understand the algorithm behing the local ancestry inference approach in Loter. We recommend to use default function with default parameter values, designed to give the best results for a broad range of species.\n",
    "\n",
    "All details regarding local ancestry inference can be found in this reference: Dias-Alves, T., Mairal, J., Blum, M.G.B., 2018. Loter: A Software Package to Infer Local Ancestry for a Wide Range of Species. Mol Biol Evol 35, 2318–2326. https://doi.org/10.1093/molbev/msy126\n",
    "\n",
    "We use the same example as previously."
   ]
  },
  {
   "cell_type": "code",
   "execution_count": 12,
   "metadata": {},
   "outputs": [],
   "source": [
    "import os\n",
    "import numpy as np\n",
    "\n",
    "H_ceu = np.load(os.path.join(os.pardir, \"data\", \"H_ceu.npy\"))\n",
    "H_yri = np.load(os.path.join(os.pardir, \"data\", \"H_yri.npy\"))\n",
    "H_mex = np.load(os.path.join(os.pardir, \"data\", \"H_mex.npy\"))"
   ]
  },
  {
   "cell_type": "markdown",
   "metadata": {},
   "source": [
    "## a) Loter with phase correction"
   ]
  },
  {
   "cell_type": "markdown",
   "metadata": {},
   "source": [
    "The algorithm for local ancestry inference in Loter is based on a penalty parameter $\\lambda$ (`lambda`). To avoid choosing it, we use a bagging approach: the model is trained for different values of $\\lambda$ over mutliple bootstrap resamplings, and the result is determined by a majority vote among the different trained models.\n",
    "\n",
    "In addition, the standard approach for local ancestry inference in Loter integrates a post-processing step based on a phase correction module, which accounts for phasing error (i.e. switches of homologous loci between the two copies of a chromosome in an individual). The phase correction step corresponds to a smoothing of the bagging results and is specifically designed for data sampled from diploid organisms.\n",
    "\n",
    "The function `loter.locanc.local_ancestry.loter_smooth` implements the method with both bagging and phase correction. Besides `l_H` and `h_adm` (c.f. [previously](#run_loter)), it takes several additional hyper-parameters:\n",
    "* `range_lambda`: list or 1-d array of candidate values (>0) for $\\lambda$\n",
    "* `threshold`: smoothing parameter in [0,1] for the phase correction module (=1 corresponds to no smoothing)\n",
    "* `rate_vote`: minimal bagging vote parameter in [0,1] (SNP with a majority vote lower than this threshold are considered indecisive and reassigned based on the reference population for nearest SNP with decisive vote)\n",
    "* `nb_bagging`: number of resampling in the bagging (positive integer)\n",
    "* `num_threads`: number of threads for parallel computations (requires OpenMP, c.f. [README.md](../README.md))"
   ]
  },
  {
   "cell_type": "code",
   "execution_count": 13,
   "metadata": {},
   "outputs": [],
   "source": [
    "import loter.locanc.local_ancestry as lc\n",
    "\n",
    "res_loter = lc.loter_smooth(\n",
    "    l_H=[H_ceu, H_yri], h_adm=H_mex, range_lambda=np.arange(1.5, 5.5, 0.5),\n",
    "    threshold=0.90, rate_vote=0.5, nb_bagging=20, num_threads=8\n",
    ")"
   ]
  },
  {
   "cell_type": "markdown",
   "metadata": {},
   "source": [
    "## b) Loter without phase correction"
   ]
  },
  {
   "cell_type": "markdown",
   "metadata": {},
   "source": [
    "It is possible to run the local ancestry inference approach in Loter without the phase correction module. To do so, you should use the function `loter.locanc.local_ancestry.loter_local_ancestry`.\n",
    "\n",
    "Besides `l_H` and `h_adm` (c.f. [previously](#run_loter)), it takes several additional hyper-parameters:\n",
    "* `range_lambda`: list or 1-d array of candidate values (>0) for $\\lambda$\n",
    "* `rate_vote`: irrelevant in this mode\n",
    "* `nb_bagging`: number of resampling in the bagging (positive interger)\n",
    "* `num_threads`: number of threads for parallel computations (requires OpenMP, c.f. [README.md](../README.md))"
   ]
  },
  {
   "cell_type": "code",
   "execution_count": 14,
   "metadata": {},
   "outputs": [],
   "source": [
    "import loter.locanc.local_ancestry as lc\n",
    "\n",
    "res_loter = lc.loter_local_ancestry(\n",
    "    l_H=[H_ceu, H_yri], h_adm=H_mex, range_lambda=np.arange(1.5, 5.5, 0.5),\n",
    "    nb_bagging=20, num_threads=8\n",
    ")"
   ]
  },
  {
   "cell_type": "markdown",
   "metadata": {},
   "source": [
    "The result containing haplotypic ancestry can be found in `res_loter`.\n",
    "\n",
    "In particular, `res_loter[0]` contains the ancestry and `res_loter[1]` contains the number of time that ancestry was picked in the bagging procedure.\n",
    "\n",
    "Again, we display admixture chunks. Chunks of 0 correspond to CEU (first element of the list) and chunks of 1 correspond to YRI (second element of the list)."
   ]
  },
  {
   "cell_type": "code",
   "execution_count": 15,
   "metadata": {},
   "outputs": [],
   "source": [
    "%matplotlib inline\n",
    "import matplotlib.pyplot as plt\n",
    "\n",
    "plt.imshow(res_no_impute[0], interpolation='nearest', aspect='auto')\n",
    "plt.colorbar()"
   ]
  },
  {
   "cell_type": "markdown",
   "metadata": {},
   "source": [
    "**Note:** The default version of the function `lc.loter_local_ancestry` can be used on non-diploid organisms."
   ]
  },
  {
   "cell_type": "markdown",
   "metadata": {},
   "source": [
    "If you want to get additional information about genotypic ancestry, only in the case of diploid organisms, you can change the `default` parameter value:"
   ]
  },
  {
   "cell_type": "code",
   "execution_count": 16,
   "metadata": {},
   "outputs": [],
   "source": [
    "res_impute, res_no_impute = lc.loter_local_ancestry(\n",
    "    l_H=[H_ceu, H_yri], h_adm=H_mex, range_lambda=np.arange(1.5, 5.5, 0.5),\n",
    "    rate_vote=0.5, nb_bagging=20, num_threads=8, default=False\n",
    ")"
   ]
  },
  {
   "cell_type": "markdown",
   "metadata": {},
   "source": [
    "In this case, the result containing haplotypic ancestry can be found in the second variable `res_no_impute`. In particular, `res_no_impute[0]` contains the ancestry and `res_no_impute[1]` contains the number of time that ancestry was picked in the bagging procedure.\n",
    "\n",
    "In addition, `res_impute` contains the genotypic ancestry. The genotypic ancestry corresponds to the paired haplotypic ancestries without order. For instance, if there are 3 ancestral populations, there are 6 possible ancestry values for genotypic ancestry.\n",
    "\n",
    "Denoting by $h1$ and $h2$ the haplotypic ancestry at a locus, the mapping function is the following:\n",
    "\n",
    "$$g: (h1, h2) -> (max(h1, h2) * (max(h1, h2) + 1))/2 + min(h1, h2)$$\n",
    "\n",
    "For example, let's consider 3 populations:\n",
    "* g((0, 0)) = (0 * 1)/2 + 0 = 0\n",
    "\n",
    "* g((0, 1)) = g((1, 0)) = (0 * 1)/2 + 1 = 1\n",
    "\n",
    "* g((1, 1)) = (1 * 2)/2 + 1 = 2\n",
    "\n",
    "* g((2, 0)) = g((0, 2)) = (2 * 3)/2 + 0 = 3\n",
    "\n",
    "* g((2, 1)) = g((1, 2)) = (2 * 3)/2 + 1 = 4\n",
    "\n",
    "* g((2, 2)) = (2 * 3)/2 + 2 = 5\n",
    "\n",
    "So genotypic ancestry compresses the pair information into one single number.\n",
    "It is useful for the computation of the genotypic ancestry error rate.\n",
    "\n",
    "In this mode, the `rate_vote` input parameter is the minimal bagging vote parameter in [0,1]. The SNP with a majority vote lower than this threshold are considered indecisive and reassigned based on the reference population for nearest SNP with decisive vote.\n"
   ]
  },
  {
   "cell_type": "markdown",
   "metadata": {},
   "source": [
    "# IV) Dealing with more than 2 ancestral populations <a class=\"anchor\" id='3pop'></a>"
   ]
  },
  {
   "cell_type": "markdown",
   "metadata": {},
   "source": [
    "It is not currently possible to account for phasing errors in Loter local ancestry inference procedure when there are more than two ancestral populations. Haplotypic length of ancestry tracts will be affected and should not be used when there are more than 2 ancestral populations. Other statistics at the scale of genotypes (mean ancestry in the population, mean ancestry per individual) are accurately inferred.\n",
    "\n",
    "Thus, you can used the bagging-only procedure `loter.locanc.local_ancestry.loter_local_ancestry` described [previously](#details) (in default mode or not).\n",
    "\n",
    "Here, we show a toy example where Mexican haplotypes are both the admixed haplotypes and in the reference list."
   ]
  },
  {
   "cell_type": "code",
   "execution_count": 17,
   "metadata": {},
   "outputs": [],
   "source": [
    "import loter.locanc.local_ancestry as lc\n",
    "\n",
    "res_loter = lc.loter_local_ancestry([H_ceu, H_yri, H_mex], H_mex, num_threads=8) ## set the number of threads"
   ]
  },
  {
   "cell_type": "markdown",
   "metadata": {},
   "source": [
    "See [previous section](#details) for details about the structure of `res_loter`."
   ]
  }
 ],
 "metadata": {
  "kernelspec": {
   "display_name": "Python 3 (ipykernel)",
   "language": "python",
   "name": "python3"
  },
  "language_info": {
   "codemirror_mode": {
    "name": "ipython",
    "version": 3
   },
   "file_extension": ".py",
   "mimetype": "text/x-python",
   "name": "python",
   "nbconvert_exporter": "python",
   "pygments_lexer": "ipython3",
   "version": "3.8.10"
  }
 },
 "nbformat": 4,
 "nbformat_minor": 2
}
